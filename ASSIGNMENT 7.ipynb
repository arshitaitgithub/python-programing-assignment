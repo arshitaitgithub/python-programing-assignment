{
 "cells": [
  {
   "cell_type": "markdown",
   "id": "9992ece9",
   "metadata": {},
   "source": [
    "### Q1. Write a Python Program to find sum of Array ?\n"
   ]
  },
  {
   "cell_type": "code",
   "execution_count": 1,
   "id": "d1bca550",
   "metadata": {},
   "outputs": [
    {
     "name": "stdout",
     "output_type": "stream",
     "text": [
      "Enter the Array: 1,2,5,6\n",
      "The sum of (1, 2, 5, 6) is 14\n"
     ]
    }
   ],
   "source": [
    "def sumOfArray():\n",
    "    in_arr = eval(input(\"Enter the Array: \"))\n",
    "    print(f'The sum of {in_arr} is {sum(in_arr)}')\n",
    "\n",
    "sumOfArray()\n"
   ]
  },
  {
   "cell_type": "markdown",
   "id": "f9ff1683",
   "metadata": {},
   "source": [
    "### Q2. Write a Python Program to find Largest element in an Array ?\n"
   ]
  },
  {
   "cell_type": "code",
   "execution_count": 2,
   "id": "9534e2fe",
   "metadata": {},
   "outputs": [
    {
     "name": "stdout",
     "output_type": "stream",
     "text": [
      "Enter the Array: 1,86,6,5,64,35\n",
      "The Largest Element in (1, 86, 6, 5, 64, 35) is 86\n"
     ]
    }
   ],
   "source": [
    "def largestElement():\n",
    "    in_arr = eval(input(\"Enter the Array: \"))\n",
    "    print(f\"The Largest Element in {in_arr} is {sorted(in_arr, reverse=True)[0]}\")\n",
    "    \n",
    "largestElement()"
   ]
  },
  {
   "cell_type": "markdown",
   "id": "64fb9441",
   "metadata": {},
   "source": [
    "### Q3. Write a Python Program for array rotation ?\n"
   ]
  },
  {
   "cell_type": "code",
   "execution_count": 3,
   "id": "4285ade9",
   "metadata": {},
   "outputs": [
    {
     "name": "stdout",
     "output_type": "stream",
     "text": [
      "Enter the Array: 2,5,563\n",
      "The Reverse of Array (2, 5, 563) is (563, 5, 2)\n"
     ]
    }
   ],
   "source": [
    "def reverseOfArray():\n",
    "    in_arr = eval(input(\"Enter the Array: \"))\n",
    "    print(f\"The Reverse of Array {in_arr} is {in_arr[::-1]}\")\n",
    "    \n",
    "reverseOfArray()"
   ]
  },
  {
   "cell_type": "markdown",
   "id": "88cfb5e5",
   "metadata": {},
   "source": [
    "### Q4. Write a Python Program to Split the array and add the first part to the end ?\n"
   ]
  },
  {
   "cell_type": "code",
   "execution_count": 6,
   "id": "96217fdc",
   "metadata": {},
   "outputs": [
    {
     "name": "stdout",
     "output_type": "stream",
     "text": [
      "Enter the Array: 24,25,26\n",
      "The Sum of First and Last Elements of Array (24, 25, 26) is 50\n"
     ]
    }
   ],
   "source": [
    "def sumOfSplits():\n",
    "    in_arr = eval(input(\"Enter the Array: \"))\n",
    "    print(f\"The Sum of First and Last Elements of Array {in_arr} is {in_arr[0]+in_arr[-1]}\")\n",
    "    \n",
    "sumOfSplits()"
   ]
  },
  {
   "cell_type": "markdown",
   "id": "6fe337a0",
   "metadata": {},
   "source": [
    "### Q5. Write a Python Program to check if given array is Monotonic ?\n"
   ]
  },
  {
   "cell_type": "code",
   "execution_count": 7,
   "id": "5bcd4497",
   "metadata": {},
   "outputs": [
    {
     "name": "stdout",
     "output_type": "stream",
     "text": [
      "Enter the Array: 25,25,98,3,4\n",
      "Array (25, 25, 98, 3, 4) is Not Monotonic\n",
      "Enter the Array: 4,5,6,7,8\n",
      "Array (4, 5, 6, 7, 8) is Monotonic\n"
     ]
    }
   ],
   "source": [
    "def checkMonotonic():\n",
    "    in_arr = eval(input(\"Enter the Array: \"))\n",
    "    if(all(in_arr[i]<=in_arr[i+1] for i in range(len(in_arr)-1)) or all(in_arr[i]>=in_arr[i+1] for i in range(len(in_arr)-1))):\n",
    "        print(f'Array {in_arr} is Monotonic')\n",
    "    else:\n",
    "        print(f'Array {in_arr} is Not Monotonic')\n",
    "\n",
    "checkMonotonic()\n",
    "checkMonotonic()"
   ]
  },
  {
   "cell_type": "code",
   "execution_count": null,
   "id": "2da20446",
   "metadata": {},
   "outputs": [],
   "source": []
  }
 ],
 "metadata": {
  "kernelspec": {
   "display_name": "Python 3 (ipykernel)",
   "language": "python",
   "name": "python3"
  },
  "language_info": {
   "codemirror_mode": {
    "name": "ipython",
    "version": 3
   },
   "file_extension": ".py",
   "mimetype": "text/x-python",
   "name": "python",
   "nbconvert_exporter": "python",
   "pygments_lexer": "ipython3",
   "version": "3.9.13"
  }
 },
 "nbformat": 4,
 "nbformat_minor": 5
}
