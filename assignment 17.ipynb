{
 "cells": [
  {
   "cell_type": "markdown",
   "id": "6e69a41f",
   "metadata": {},
   "source": [
    "### 1.Create a function that takes three arguments a, b, c and returns the sum of the numbers that are evenly divided by c from the range a, b inclusive ?\n"
   ]
  },
  {
   "cell_type": "markdown",
   "id": "c8665913",
   "metadata": {},
   "source": [
    "evenly_divisible(1, 10, 20) ➞ 0\n",
    "\n",
    "No number between 1 and 10 can be evenly divided by 20.\n",
    "evenly_divisible(1, 10, 2) ➞ 30\n",
    "\n",
    "2 + 4 + 6 + 8 + 10 = 30\n",
    "evenly_divisible(1, 10, 3) ➞ 18\n",
    "\n",
    "3 + 6 + 9 = 18`\n"
   ]
  },
  {
   "cell_type": "code",
   "execution_count": 1,
   "id": "9ed5aadc",
   "metadata": {},
   "outputs": [
    {
     "name": "stdout",
     "output_type": "stream",
     "text": [
      "(1, 10, 20) ➞ 0\n",
      "(1, 10, 2) ➞ 30\n",
      "(1, 10, 3) ➞ 18\n"
     ]
    }
   ],
   "source": [
    "def evenDivisible(a,b,c):\n",
    "    divList = []\n",
    "    for num in range(a,b+1):\n",
    "        if num%c == 0:\n",
    "            divList.append(num)\n",
    "    print(f'{a,b,c} ➞ {sum(divList)}')\n",
    "\n",
    "evenDivisible(1,10,20)\n",
    "evenDivisible(1,10,2)\n",
    "evenDivisible(1,10,3)\n"
   ]
  },
  {
   "cell_type": "markdown",
   "id": "abad96c4",
   "metadata": {},
   "source": [
    "### q2.Create a function that returns True if a given inequality expression is correct and False otherwise ?\n"
   ]
  },
  {
   "cell_type": "markdown",
   "id": "46d7772e",
   "metadata": {},
   "source": [
    "Examples: correct_signs(\"3 < 7 < 11\") ➞ True correct_signs(\"13 > 44 > 33 > 1\") ➞ False correct_signs(\"1 < 2 < 6 < 9 > 3\") ➞ True"
   ]
  },
  {
   "cell_type": "code",
   "execution_count": 2,
   "id": "e7fbd40d",
   "metadata": {},
   "outputs": [
    {
     "name": "stdout",
     "output_type": "stream",
     "text": [
      "Enter the inequality: 3<7<11\n",
      "3<7<11 ➞ True\n",
      "Enter the inequality: 13>44>33>1\n",
      "13>44>33>1 ➞ False\n",
      "Enter the inequality: 1<2<6<9>3\n",
      "1<2<6<9>3 ➞ True\n"
     ]
    }
   ],
   "source": [
    "def checkEquality():\n",
    "    in_string = input('Enter the inequality: ')\n",
    "    out_bool = eval(in_string)\n",
    "    print(f'{in_string} ➞ {out_bool}')\n",
    "\n",
    "for x in range(3):\n",
    "    checkEquality()"
   ]
  },
  {
   "cell_type": "markdown",
   "id": "02d1f559",
   "metadata": {},
   "source": [
    "### q3.Create a function that replaces all the vowels in a string with a specified character ?\n"
   ]
  },
  {
   "cell_type": "markdown",
   "id": "781cb3fe",
   "metadata": {},
   "source": [
    " Examples: replace_vowels(\"the aardvark\", \"#\") ➞ \"th# ##rdv#rk\" replace_vowels(\"minnie mouse\", \"?\") ➞ \"m?nn?? m??s?\" replace_vowels(\"shakespeare\", \"\") ➞ \"shksp*r\"\n",
    "\n"
   ]
  },
  {
   "cell_type": "code",
   "execution_count": 4,
   "id": "d64135c2",
   "metadata": {},
   "outputs": [
    {
     "name": "stdout",
     "output_type": "stream",
     "text": [
      "String: the aardvark\n",
      "Replacement character: minnie mouse\n",
      "the aardvark minnie mouse ➞ thminnie mouse minnie mouseminnie mouserdvminnie mouserk\n",
      "String: shakespeare\n",
      "Replacement character: *\n",
      "shakespeare * ➞ sh*k*sp**r*\n",
      "String: ?\n",
      "Replacement character: #\n",
      "? # ➞ ?\n"
     ]
    }
   ],
   "source": [
    "def replaceVowels():\n",
    "    vowels = ['a','e','i','o','u','A','E','I','O','U']\n",
    "    in_string = input(\"String: \")\n",
    "    in_string_copy = in_string\n",
    "    in_char = input('Replacement character: ')\n",
    "    for ele in in_string:\n",
    "        if ele in vowels:\n",
    "            in_string = in_string.replace(ele,in_char)\n",
    "    print(f'{in_string_copy} {in_char} ➞ {in_string}')\n",
    "            \n",
    "for x in range(3):\n",
    "    replaceVowels()"
   ]
  },
  {
   "cell_type": "markdown",
   "id": "c6558833",
   "metadata": {},
   "source": [
    "### q4.Write a function that calculates the factorial of a number recursively ?\n"
   ]
  },
  {
   "cell_type": "markdown",
   "id": "7cd98c72",
   "metadata": {},
   "source": [
    " Examples: factorial(5) ➞ 120 factorial(3) ➞ 6 factorial(1) ➞ 1 factorial(0) ➞ 1"
   ]
  },
  {
   "cell_type": "code",
   "execution_count": 5,
   "id": "a7977ece",
   "metadata": {},
   "outputs": [
    {
     "name": "stdout",
     "output_type": "stream",
     "text": [
      "factorial(5) ➞ 120\n",
      "factorial(3) ➞ 6\n",
      "factorial(1) ➞ 1\n",
      "factorial(0) ➞ 1\n"
     ]
    }
   ],
   "source": [
    "def factorial(n):\n",
    "    if n==0:\n",
    "        return 1\n",
    "    return n * factorial(n-1)\n",
    "\n",
    "print(f'factorial(5) ➞ {factorial(5)}')\n",
    "print(f'factorial(3) ➞ {factorial(3)}')\n",
    "print(f'factorial(1) ➞ {factorial(1)}')\n",
    "print(f'factorial(0) ➞ {factorial(0)}')\n"
   ]
  },
  {
   "cell_type": "markdown",
   "id": "cbde8ddf",
   "metadata": {},
   "source": [
    "### q5.Hamming distance is the number of characters that differ between two strings ?\n"
   ]
  },
  {
   "cell_type": "markdown",
   "id": "21e30d7c",
   "metadata": {},
   "source": [
    "To illustrate: String1: \"abcbba\" String2: \"abcbda\" Hamming Distance: 1 - \"b\" vs. \"d\" is the only difference. Create a function that computes the hamming distance between two strings. Examples: hamming_distance(\"abcde\", \"bcdef\") ➞ 5 hamming_distance(\"abcde\", \"abcde\") ➞ 0 hamming_distance(\"strong\", \"strung\") ➞ 1\n",
    "\n"
   ]
  },
  {
   "cell_type": "code",
   "execution_count": 6,
   "id": "070d752e",
   "metadata": {},
   "outputs": [
    {
     "name": "stdout",
     "output_type": "stream",
     "text": [
      "Enter the String_1: abcbba\n",
      "Enter the String_2: abcbda\n",
      "Hamning Distance b/w abcbba and abcbda ➞ 1\n",
      "Enter the String_1: abcbba\n",
      "Enter the String_2: abcbda\n",
      "Hamning Distance b/w abcbba and abcbda ➞ 1\n",
      "Enter the String_1: abcde\n",
      "Enter the String_2: abdef\n",
      "Hamning Distance b/w abcde and abdef ➞ 3\n"
     ]
    }
   ],
   "source": [
    "def genHamDistance():\n",
    "    in_string_1 = input('Enter the String_1: ')\n",
    "    in_string_2 = input('Enter the String_2: ')\n",
    "    if len(in_string_1) == len(in_string_2):\n",
    "        count = 0\n",
    "        for i in range(len(in_string_1)):\n",
    "            if in_string_1[i] != in_string_2[i]:\n",
    "                count = count+1\n",
    "        print(f'Hamning Distance b/w {in_string_1} and {in_string_2} ➞ {count}')\n",
    "    else:\n",
    "        print('Both Strings Must be of Same Length')\n",
    "\n",
    "for x in range(3):\n",
    "    genHamDistance()"
   ]
  },
  {
   "cell_type": "code",
   "execution_count": null,
   "id": "328c5039",
   "metadata": {},
   "outputs": [],
   "source": []
  }
 ],
 "metadata": {
  "kernelspec": {
   "display_name": "Python 3 (ipykernel)",
   "language": "python",
   "name": "python3"
  },
  "language_info": {
   "codemirror_mode": {
    "name": "ipython",
    "version": 3
   },
   "file_extension": ".py",
   "mimetype": "text/x-python",
   "name": "python",
   "nbconvert_exporter": "python",
   "pygments_lexer": "ipython3",
   "version": "3.9.13"
  }
 },
 "nbformat": 4,
 "nbformat_minor": 5
}
