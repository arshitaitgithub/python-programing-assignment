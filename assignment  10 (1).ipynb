{
 "cells": [
  {
   "cell_type": "markdown",
   "id": "14067dd7",
   "metadata": {},
   "source": [
    "### Q 1.Write a Python Program to find sum of elements in a list ?\n"
   ]
  },
  {
   "cell_type": "code",
   "execution_count": 2,
   "id": "f8751b6f",
   "metadata": {},
   "outputs": [
    {
     "name": "stdout",
     "output_type": "stream",
     "text": [
      "Enter the No of Entries in a List: 6\n",
      "Enter a element: 5\n",
      "Enter a element: 6\n",
      "Enter a element: 6\n",
      "Enter a element: 31\n",
      "Enter a element: 16\n",
      "Enter a element: 25\n",
      "Sum of Elements: 89\n"
     ]
    }
   ],
   "source": [
    "def sumofList():\n",
    "    in_ele = int(input('Enter the No of Entries in a List: '))\n",
    "    in_list = []\n",
    "    for itr in range(in_ele):\n",
    "        in_list.append(int(input('Enter a element: ')))\n",
    "    print(f'Sum of Elements: {sum(in_list)}')\n",
    "\n",
    "sumofList()\n"
   ]
  },
  {
   "cell_type": "markdown",
   "id": "338b80e6",
   "metadata": {},
   "source": [
    "### Q2.Write a Python Program to multiply all numbers in the list ?\n"
   ]
  },
  {
   "cell_type": "code",
   "execution_count": 3,
   "id": "8f5e3b88",
   "metadata": {},
   "outputs": [
    {
     "name": "stdout",
     "output_type": "stream",
     "text": [
      "Enter the No of Entries in a List: 4\n",
      "Enter a element: 25\n",
      "Enter a element: 41\n",
      "Enter a element: 1\n",
      "Enter a element: 2\n",
      "2050\n"
     ]
    }
   ],
   "source": [
    "def mulofList():\n",
    "    in_ele = int(input('Enter the No of Entries in a List: '))\n",
    "    in_list = []\n",
    "    mul = 1\n",
    "    for itr in range(in_ele):\n",
    "        in_list.append(int(input('Enter a element: ')))\n",
    "    for ele in in_list:\n",
    "        mul = mul * ele\n",
    "    print(mul)\n",
    "\n",
    "mulofList()\n"
   ]
  },
  {
   "cell_type": "markdown",
   "id": "701b087a",
   "metadata": {},
   "source": [
    "### Q3.Write a Python Program to find smallest number in the list ?\n"
   ]
  },
  {
   "cell_type": "code",
   "execution_count": 5,
   "id": "f27307d1",
   "metadata": {},
   "outputs": [
    {
     "name": "stdout",
     "output_type": "stream",
     "text": [
      "Enter the No of elements in a list: 5\n",
      "Enter a Element: 4\n",
      "Enter a Element: 5\n",
      "Enter a Element: 6\n",
      "Enter a Element: 9\n",
      "Enter a Element: 8\n",
      "The Smallest Element in [4, 5, 6, 9, 8] is 4\n"
     ]
    }
   ],
   "source": [
    "def smallEleInList():\n",
    "    in_ele = int(input('Enter the No of elements in a list: '))\n",
    "    in_list = []\n",
    "    for ele in range(in_ele):\n",
    "        in_list.append(int(input('Enter a Element: ')))\n",
    "    print(f'The Smallest Element in {in_list} is {sorted(in_list)[0]}')\n",
    "smallEleInList()\n"
   ]
  },
  {
   "cell_type": "markdown",
   "id": "061d1ad8",
   "metadata": {},
   "source": [
    "### Q4.Write a Python Program to find largest number in the list ?\n"
   ]
  },
  {
   "cell_type": "code",
   "execution_count": 6,
   "id": "01a5dab0",
   "metadata": {},
   "outputs": [
    {
     "name": "stdout",
     "output_type": "stream",
     "text": [
      "Enter the No of elements in a list: 5\n",
      "Enter a Element: 8\n",
      "Enter a Element: 9\n",
      "Enter a Element: 2\n",
      "Enter a Element: 0\n",
      "Enter a Element: 4\n",
      "The Largest Element in [8, 9, 2, 0, 4] is 9\n"
     ]
    }
   ],
   "source": [
    "def largestEleInList():\n",
    "    in_ele = int(input('Enter the No of elements in a list: '))\n",
    "    in_list = []\n",
    "    for ele in range(in_ele):\n",
    "        in_list.append(int(input('Enter a Element: ')))\n",
    "    print(f'The Largest Element in {in_list} is {sorted(in_list, reverse=True)[0]}')\n",
    "\n",
    "largestEleInList()"
   ]
  },
  {
   "cell_type": "markdown",
   "id": "c53fd317",
   "metadata": {},
   "source": [
    "### Q5.Write a Python Program to find second largest number in the list ?\n"
   ]
  },
  {
   "cell_type": "code",
   "execution_count": 7,
   "id": "79b286ca",
   "metadata": {},
   "outputs": [
    {
     "name": "stdout",
     "output_type": "stream",
     "text": [
      "Enter the No of elements in a list: 10\n",
      "Enter a Element: 450\n",
      "Enter a Element: 50\n",
      "Enter a Element: 5\n",
      "Enter a Element: 6\n",
      "Enter a Element: 80\n",
      "Enter a Element: 50\n",
      "Enter a Element: 520\n",
      "Enter a Element: 450\n",
      "Enter a Element: 66\n",
      "Enter a Element: 55\n",
      "The Second Largest Element in [450, 50, 5, 6, 80, 50, 520, 450, 66, 55] is 450\n"
     ]
    }
   ],
   "source": [
    "def secondLargestEleInList():\n",
    "    in_ele = int(input('Enter the No of elements in a list: '))\n",
    "    in_list = []\n",
    "    for ele in range(in_ele):\n",
    "        in_list.append(int(input('Enter a Element: ')))\n",
    "    print(f'The Second Largest Element in {in_list} is {sorted(in_list, reverse=True)[1]}')\n",
    "\n",
    "secondLargestEleInList()"
   ]
  },
  {
   "cell_type": "markdown",
   "id": "780368cb",
   "metadata": {},
   "source": [
    "### Q6.Write a Python Program to find N largest elements in the list ?\n"
   ]
  },
  {
   "cell_type": "code",
   "execution_count": 8,
   "id": "efd89759",
   "metadata": {},
   "outputs": [
    {
     "name": "stdout",
     "output_type": "stream",
     "text": [
      "Enter the No of elements in a list: 10\n",
      "Enter a Element: 1\n",
      "Enter a Element: 2\n",
      "Enter a Element: 3\n",
      "Enter a Element: 4\n",
      "Enter a Element: 5\n",
      "Enter a Element: 6\n",
      "Enter a Element: 7\n",
      "Enter a Element: 8\n",
      "Enter a Element: 9\n",
      "Enter a Element: 10\n",
      "The 4 Largest Element in [1, 2, 3, 4, 5, 6, 7, 8, 9, 10] is [10, 9, 8, 7]\n"
     ]
    }
   ],
   "source": [
    "def nLargestEleInList(k):\n",
    "    in_ele = int(input('Enter the No of elements in a list: '))\n",
    "    in_list = []\n",
    "    for ele in range(in_ele):\n",
    "        in_list.append(int(input('Enter a Element: ')))\n",
    "    print(f'The {k} Largest Element in {in_list} is {sorted(in_list, reverse=True)[0:k]}')\n",
    "\n",
    "nLargestEleInList(4)\n"
   ]
  },
  {
   "cell_type": "markdown",
   "id": "68bfc849",
   "metadata": {},
   "source": [
    "### Q7.Write a Python Program to find even numbers in the list ?\n"
   ]
  },
  {
   "cell_type": "code",
   "execution_count": 9,
   "id": "0c8d27bd",
   "metadata": {},
   "outputs": [
    {
     "name": "stdout",
     "output_type": "stream",
     "text": [
      "Enter the No of elements in a list: 2\n",
      "Enter a Element: 45\n",
      "Enter a Element: 52\n",
      "The Even Elements in [45, 52] are [52]\n"
     ]
    }
   ],
   "source": [
    "def evenNoInList():\n",
    "    in_ele = int(input('Enter the No of elements in a list: '))\n",
    "    in_list = []\n",
    "    even_list = []\n",
    "    for ele in range(in_ele):\n",
    "        in_list.append(int(input('Enter a Element: ')))\n",
    "    for ele in in_list:\n",
    "        if ele%2 == 0:\n",
    "            even_list.append(ele)\n",
    "    print(f'The Even Elements in {in_list} are {even_list}')\n",
    "\n",
    "evenNoInList()\n"
   ]
  },
  {
   "cell_type": "markdown",
   "id": "d6d50ddf",
   "metadata": {},
   "source": [
    "### Q8.Write a Python Program to find odd numbers in the list ?\n"
   ]
  },
  {
   "cell_type": "code",
   "execution_count": 10,
   "id": "223b4d50",
   "metadata": {},
   "outputs": [
    {
     "name": "stdout",
     "output_type": "stream",
     "text": [
      "Enter the No of elements in a list: 5\n",
      "Enter a Element: 45\n",
      "Enter a Element: 85\n",
      "Enter a Element: 33\n",
      "Enter a Element: 222\n",
      "Enter a Element: 1\n",
      "The Even Elements in [45, 85, 33, 222, 1] are [45, 85, 33, 1]\n"
     ]
    }
   ],
   "source": [
    "def oddNoInList():\n",
    "    in_ele = int(input('Enter the No of elements in a list: '))\n",
    "    in_list = []\n",
    "    odd_list = []\n",
    "    for ele in range(in_ele):\n",
    "        in_list.append(int(input('Enter a Element: ')))\n",
    "    for ele in in_list:\n",
    "        if ele%2 != 0:\n",
    "            odd_list.append(ele)\n",
    "    print(f'The Even Elements in {in_list} are {odd_list}')\n",
    "\n",
    "oddNoInList()\n"
   ]
  },
  {
   "cell_type": "markdown",
   "id": "f706b06f",
   "metadata": {},
   "source": [
    "### Q9.Write a Python Program to remove empty list from list ?\n"
   ]
  },
  {
   "cell_type": "code",
   "execution_count": 11,
   "id": "7fbc98fb",
   "metadata": {},
   "outputs": [
    {
     "name": "stdout",
     "output_type": "stream",
     "text": [
      "Enter all elements of the list: 1,2,3,4,5,6\n",
      "There is no [] List in the list (1, 2, 3, 4, 5, 6)\n"
     ]
    }
   ],
   "source": [
    "def checkEmptyList():\n",
    "    in_list = eval(input('Enter all elements of the list: '))\n",
    "    if [] in in_list:\n",
    "        print(f'There is an Empty list in {in_list} at Position {in_list.index([])}')\n",
    "        in_list.remove([])\n",
    "        print(f'The List after removing [] is {in_list}')\n",
    "    else:\n",
    "        print(f'There is no [] List in the list {in_list}')\n",
    "        \n",
    "checkEmptyList()"
   ]
  },
  {
   "cell_type": "markdown",
   "id": "cb2b1643",
   "metadata": {},
   "source": [
    "### Q10.Write a Python Program to Cloning or Copying a list ?\n"
   ]
  },
  {
   "cell_type": "code",
   "execution_count": 13,
   "id": "82a36c89",
   "metadata": {},
   "outputs": [
    {
     "name": "stdout",
     "output_type": "stream",
     "text": [
      "Enter a list[1,2,3,4,5,6,7,0]\n",
      "[1, 2, 3, 4, 5, 6, 7, 0] 2669078949760\n",
      "[1, 2, 3, 4, 5, 6, 7, 0] 2669078958976\n"
     ]
    }
   ],
   "source": [
    "import copy\n",
    "\n",
    "def cloneList():\n",
    "    in_list = eval(input('Enter a list'))\n",
    "    print(in_list, id(in_list))\n",
    "    cloned_list = in_list.copy()\n",
    "    print(cloned_list, id(cloned_list))\n",
    "\n",
    "cloneList()"
   ]
  },
  {
   "cell_type": "markdown",
   "id": "60c89961",
   "metadata": {},
   "source": [
    "### Q11.Write a Python Program to count occurences of an element in a list ?\n"
   ]
  },
  {
   "cell_type": "code",
   "execution_count": 14,
   "id": "42ec10bf",
   "metadata": {},
   "outputs": [
    {
     "name": "stdout",
     "output_type": "stream",
     "text": [
      "Enter the elements of the list: [1,22,5,5,6,6,7,5,55,99]\n",
      "Enter the element to find: 6\n",
      "There are 2 occurences of 6 in [1, 22, 5, 5, 6, 6, 7, 5, 55, 99]\n"
     ]
    }
   ],
   "source": [
    "def checkOccurence():\n",
    "    in_list = eval(input('Enter the elements of the list: '))\n",
    "    in_num = eval(input('Enter the element to find: '))\n",
    "    count = 0\n",
    "    if in_num in in_list:\n",
    "        for ele in in_list:\n",
    "            if ele == in_num:\n",
    "                count = count+1\n",
    "    print(f'There are {count} occurences of {in_num} in {in_list}')\n",
    "checkOccurence()\n"
   ]
  },
  {
   "cell_type": "code",
   "execution_count": null,
   "id": "aec5d21c",
   "metadata": {},
   "outputs": [],
   "source": []
  }
 ],
 "metadata": {
  "kernelspec": {
   "display_name": "Python 3 (ipykernel)",
   "language": "python",
   "name": "python3"
  },
  "language_info": {
   "codemirror_mode": {
    "name": "ipython",
    "version": 3
   },
   "file_extension": ".py",
   "mimetype": "text/x-python",
   "name": "python",
   "nbconvert_exporter": "python",
   "pygments_lexer": "ipython3",
   "version": "3.9.13"
  }
 },
 "nbformat": 4,
 "nbformat_minor": 5
}
