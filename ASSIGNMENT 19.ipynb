{
 "cells": [
  {
   "cell_type": "markdown",
   "id": "a77757da",
   "metadata": {},
   "source": [
    "### Q1.Create a function that takes a string and returns a string in which each character is repeated once.\n"
   ]
  },
  {
   "cell_type": "markdown",
   "id": "ca628f99",
   "metadata": {},
   "source": [
    " Examples: double_char(\"String\") ➞ \"SSttrriinngg\" double_char(\"Hello World!\") ➞ \"HHeelllloo WWoorrlldd!!\" doublechar(\"1234!_\") ➞ \"11223344!!__\"\n",
    "\n"
   ]
  },
  {
   "cell_type": "code",
   "execution_count": 1,
   "id": "6320d7b0",
   "metadata": {},
   "outputs": [
    {
     "name": "stdout",
     "output_type": "stream",
     "text": [
      "➞ SSttrriinngg\n",
      "➞ HHeelllloo  WWoorrlldd!!\n",
      "➞ 11223344!!__\n"
     ]
    }
   ],
   "source": [
    "def double_char(in_string):\n",
    "    out_string = ''\n",
    "    for ele in in_string:\n",
    "        out_string += ele*2\n",
    "    return out_string\n",
    "\n",
    "print(f'➞ {double_char(\"String\")}')\n",
    "print(f'➞ {double_char(\"Hello World!\")}')\n",
    "print(f'➞ {double_char(\"1234!_\")}')"
   ]
  },
  {
   "cell_type": "markdown",
   "id": "e0e2d9ed",
   "metadata": {},
   "source": [
    "### Q2.Create a function that reverses a boolean value and returns the string \"boolean expected\" if another variable type is given.\n"
   ]
  },
  {
   "cell_type": "markdown",
   "id": "01d51c80",
   "metadata": {},
   "source": [
    " Examples: reverse(True) ➞ False reverse(False) ➞ True reverse(0) ➞ \"boolean expected\" reverse(None) ➞ \"boolean expected\"\n",
    "\n"
   ]
  },
  {
   "cell_type": "code",
   "execution_count": 2,
   "id": "a3370ab5",
   "metadata": {},
   "outputs": [
    {
     "name": "stdout",
     "output_type": "stream",
     "text": [
      "reverse(True) ➞ False\n",
      "reverse(False) ➞ True\n",
      "reverse(0) ➞ Boolean Expected\n",
      "reverse(None) ➞ Boolean Expected\n"
     ]
    }
   ],
   "source": [
    "def reverse(in_bool):\n",
    "    if type(in_bool) == bool:\n",
    "        return not in_bool\n",
    "    else:\n",
    "        return \"Boolean Expected\"\n",
    "\n",
    "print(f'reverse(True) ➞ {reverse(True)}')\n",
    "print(f'reverse(False) ➞ {reverse(False)}')\n",
    "print(f'reverse(0) ➞ {reverse(0)}')\n",
    "print(f'reverse(None) ➞ {reverse(None)}')\n"
   ]
  },
  {
   "cell_type": "markdown",
   "id": "9b978fcc",
   "metadata": {},
   "source": [
    "### Q3. Create a function that returns the thickness (in meters) of a piece of paper after folding it n number of times. The paper starts off with a thickness of 0.5mm.\n"
   ]
  },
  {
   "cell_type": "markdown",
   "id": "764fda38",
   "metadata": {},
   "source": [
    "Examples: `num_layers(1) ➞ \"0.001m\"\n",
    "\n",
    "Paper folded once is 1mm (equal to 0.001m)\n",
    "num_layers(4) ➞ \"0.008m\"\n",
    "\n",
    "Paper folded 4 times is 8mm (equal to 0.008m)\n",
    "num_layers(21) ➞ \"1048.576m\"\n",
    "\n",
    "Paper folded 21 times is 1048576mm (equal to 1048.576m)`\n"
   ]
  },
  {
   "cell_type": "code",
   "execution_count": 3,
   "id": "746b51c3",
   "metadata": {},
   "outputs": [
    {
     "name": "stdout",
     "output_type": "stream",
     "text": [
      "Output ➞ 0.001m\n",
      "Output ➞ 0.008m\n",
      "Output ➞ 1048.576m\n"
     ]
    }
   ],
   "source": [
    "def num_layers(in_num):\n",
    "    out_num = 0.5\n",
    "    for ele in range(in_num):\n",
    "        out_num *= 2\n",
    "    print(f'Output ➞ {out_num/1000}m')\n",
    "    \n",
    "num_layers(1)\n",
    "num_layers(4)\n",
    "num_layers(21)"
   ]
  },
  {
   "cell_type": "markdown",
   "id": "37427677",
   "metadata": {},
   "source": [
    "### Q4.Create a function that takes a single string as argument and returns an ordered list containing the indices of all capital letters in the string.\n"
   ]
  },
  {
   "cell_type": "markdown",
   "id": "1d909a2a",
   "metadata": {},
   "source": [
    "Examples: index_of_caps(\"eDaBiT\") ➞ [1, 3, 5] index_of_caps(\"eQuINoX\") ➞ [1, 3, 4, 6] index_of_caps(\"determine\") ➞ [] index_of_caps(\"STRIKE\") ➞ [0, 1, 2, 3, 4, 5] index_of_caps(\"sUn\") ➞ [1]\n",
    "\n"
   ]
  },
  {
   "cell_type": "code",
   "execution_count": 4,
   "id": "e4cbae14",
   "metadata": {},
   "outputs": [
    {
     "name": "stdout",
     "output_type": "stream",
     "text": [
      "eDaBiT ➞ [1, 3, 5]\n",
      "eQuINoX ➞ [1, 3, 4, 6]\n",
      "determine ➞ []\n",
      "STRIKE ➞ [0, 1, 2, 3, 4, 5]\n",
      "sUn ➞ [1]\n"
     ]
    }
   ],
   "source": [
    "def index_of_caps(in_string):\n",
    "    out_string = []\n",
    "    for ele in in_string:\n",
    "        if ele.isupper():\n",
    "            out_string.append(in_string.index(ele))\n",
    "    print(f'{in_string} ➞ {out_string}')\n",
    "\n",
    "index_of_caps(\"eDaBiT\")\n",
    "index_of_caps(\"eQuINoX\")\n",
    "index_of_caps(\"determine\")\n",
    "index_of_caps(\"STRIKE\")\n",
    "index_of_caps(\"sUn\")\n"
   ]
  },
  {
   "cell_type": "markdown",
   "id": "20a640d0",
   "metadata": {},
   "source": [
    "### Q5.Using list comprehensions, create a function that finds all even numbers from 1 to the given number.\n"
   ]
  },
  {
   "cell_type": "code",
   "execution_count": null,
   "id": "32293d5c",
   "metadata": {},
   "outputs": [],
   "source": [
    "Examples: find_even_nums(8) ➞ [2, 4, 6, 8] find_even_nums(4) ➞ [2, 4] find_even_nums(2) ➞ [2]\n",
    "\n"
   ]
  },
  {
   "cell_type": "code",
   "execution_count": 5,
   "id": "f6cfe804",
   "metadata": {},
   "outputs": [
    {
     "name": "stdout",
     "output_type": "stream",
     "text": [
      "Output ➞ [2, 4, 6, 8]\n",
      "Output ➞ [2, 4]\n",
      "Output ➞ [2]\n"
     ]
    }
   ],
   "source": [
    "def find_even_nums(in_num):\n",
    "    out_list = [i for i in range(1,in_num+1) if i%2 == 0]\n",
    "    print(f'Output ➞ {out_list}')\n",
    "    \n",
    "find_even_nums(8)\n",
    "find_even_nums(4)\n",
    "find_even_nums(2)\n"
   ]
  },
  {
   "cell_type": "code",
   "execution_count": null,
   "id": "eaeee9d5",
   "metadata": {},
   "outputs": [],
   "source": []
  }
 ],
 "metadata": {
  "kernelspec": {
   "display_name": "Python 3 (ipykernel)",
   "language": "python",
   "name": "python3"
  },
  "language_info": {
   "codemirror_mode": {
    "name": "ipython",
    "version": 3
   },
   "file_extension": ".py",
   "mimetype": "text/x-python",
   "name": "python",
   "nbconvert_exporter": "python",
   "pygments_lexer": "ipython3",
   "version": "3.9.13"
  }
 },
 "nbformat": 4,
 "nbformat_minor": 5
}
