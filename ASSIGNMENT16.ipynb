{
 "cells": [
  {
   "cell_type": "markdown",
   "id": "5420f73b",
   "metadata": {},
   "source": [
    "### Q1.Write a function that stutters a word as if someone is struggling to read it. The first two letters are repeated twice with an ellipsis ... and space after each, and then the word is pronounced with a question mark ?"
   ]
  },
  {
   "cell_type": "markdown",
   "id": "27296ba0",
   "metadata": {},
   "source": [
    "Examples: stutter(\"incredible\") ➞ \"in... in... incredible?\" stutter(\"enthusiastic\") ➞ \"en... en... enthusiastic?\" stutter(\"outstanding\") ➞ \"ou... ou... outstanding?\"\n",
    "\n",
    "Hint :- Assume all input is in lower case and at least two characters long.\n",
    "\n"
   ]
  },
  {
   "cell_type": "code",
   "execution_count": 1,
   "id": "c6c91be5",
   "metadata": {},
   "outputs": [
    {
     "name": "stdout",
     "output_type": "stream",
     "text": [
      "Enter the Word :incredible\n",
      "incredible ➞ in... in... incredible?\n",
      "Enter the Word :enthusiastic\n",
      "enthusiastic ➞ en... en... enthusiastic?\n",
      "Enter the Word :outstanding\n",
      "outstanding ➞ ou... ou... outstanding?\n"
     ]
    }
   ],
   "source": [
    "def stutterWord():\n",
    "    in_string = input('Enter the Word :')\n",
    "    out_string = in_string.replace(in_string[0:2],((in_string[0:2]+'... ')*2)+ in_string[0:2])  +'?'\n",
    "    print(f'{in_string} ➞ {out_string}')\n",
    "\n",
    "for i in range(3):\n",
    "    stutterWord()\n"
   ]
  },
  {
   "cell_type": "markdown",
   "id": "0ed6c8f7",
   "metadata": {},
   "source": [
    "### q2..Create a function that takes an angle in radians and returns the corresponding angle in degrees rounded to one decimal place ?\n"
   ]
  },
  {
   "cell_type": "markdown",
   "id": "9a3e4b61",
   "metadata": {},
   "source": [
    " Examples: radians_to_degrees(1) ➞ 57.3 radians_to_degrees(20) ➞ 1145.9 radians_to_degrees(50) ➞ 2864.8\n",
    "\n"
   ]
  },
  {
   "cell_type": "code",
   "execution_count": 3,
   "id": "015081a2",
   "metadata": {},
   "outputs": [
    {
     "name": "stdout",
     "output_type": "stream",
     "text": [
      "Enter the angle in Radians: 1\n",
      "1 radian(s) ➞ 57.3 degrees\n",
      "Enter the angle in Radians: 20\n",
      "20 radian(s) ➞ 1145.9 degrees\n",
      "Enter the angle in Radians: 50\n",
      "50 radian(s) ➞ 2864.8 degrees\n"
     ]
    }
   ],
   "source": [
    "import math\n",
    "def radianToDegree():\n",
    "    in_num = int(input('Enter the angle in Radians: '))\n",
    "    out_num = (180/math.pi)*in_num\n",
    "    print(f'{in_num} radian(s) ➞ {out_num:.1f} degrees')\n",
    "\n",
    "for x in range(3):\n",
    "    radianToDegree()\n"
   ]
  },
  {
   "cell_type": "markdown",
   "id": "727cedf9",
   "metadata": {},
   "source": [
    "### q3.In this challenge, establish if a given integer num is a Curzon number. If 1 plus 2 elevated to num is exactly divisible by 1 plus 2 multiplied by num, then num is a Curzon number. Given a non-negative integer num, implement a function that returns True if num is a Curzon number, or False otherwise.\n"
   ]
  },
  {
   "cell_type": "markdown",
   "id": "93b92487",
   "metadata": {},
   "source": [
    "Examples: `is_curzon(5) ➞ True\n",
    "\n",
    "2 ** 5 + 1 = 33\n",
    "2 * 5 + 1 = 11\n",
    "33 is a multiple of 11\n",
    "is_curzon(10) ➞ False\n",
    "\n",
    "2 ** 10 + 1 = 1025\n",
    "2 * 10 + 1 = 21\n",
    "1025 is not a multiple of 21\n",
    "is_curzon(14) ➞ True\n",
    "\n",
    "2 ** 14 + 1 = 16385\n",
    "2 * 14 + 1 = 29\n",
    "16385 is a multiple of 29"
   ]
  },
  {
   "cell_type": "code",
   "execution_count": 4,
   "id": "c3ccd52d",
   "metadata": {},
   "outputs": [
    {
     "name": "stdout",
     "output_type": "stream",
     "text": [
      "Enter a number: 5\n",
      "5 is a Curzon Number\n",
      "Enter a number: 10\n",
      "10 is Not a Curzon Number\n",
      "Enter a number: 14\n",
      "14 is a Curzon Number\n",
      "Enter a number: 12\n",
      "12 is Not a Curzon Number\n"
     ]
    }
   ],
   "source": [
    "def checkCurzon():\n",
    "    in_num = int(input(\"Enter a number: \"))\n",
    "    if (pow(2,in_num)+1)%((2*in_num)+1) == 0:\n",
    "        print(f'{in_num} is a Curzon Number')\n",
    "    else:\n",
    "        print(f'{in_num} is Not a Curzon Number')\n",
    "\n",
    "for x in range(4):\n",
    "    checkCurzon()\n"
   ]
  },
  {
   "cell_type": "markdown",
   "id": "28627cbf",
   "metadata": {},
   "source": [
    "### q4.Given the side length x find the area of a hexagon ?\n"
   ]
  },
  {
   "cell_type": "markdown",
   "id": "56edb70a",
   "metadata": {},
   "source": [
    " Examples: area_of_hexagon(1) ➞ 2.6 area_of_hexagon(2) ➞ 10.4 area_of_hexagon(3) ➞ 23.4"
   ]
  },
  {
   "cell_type": "code",
   "execution_count": 5,
   "id": "c62fb012",
   "metadata": {},
   "outputs": [
    {
     "name": "stdout",
     "output_type": "stream",
     "text": [
      "Enter the side length of a Hexagon: 1\n",
      "Area for Hexagon of sidelength 1 ➞ 2.6\n",
      "Enter the side length of a Hexagon: 2\n",
      "Area for Hexagon of sidelength 2 ➞ 10.4\n",
      "Enter the side length of a Hexagon: 3\n",
      "Area for Hexagon of sidelength 3 ➞ 23.4\n"
     ]
    }
   ],
   "source": [
    "import math\n",
    "def areaOfHexagon():\n",
    "    in_num = int(input('Enter the side length of a Hexagon: '))\n",
    "    out_num = ((3*math.sqrt(3))/2)*(pow(in_num,2))\n",
    "    print(f'Area for Hexagon of sidelength {in_num} ➞ {out_num:.1f}')\n",
    "    \n",
    "for x in range(3):\n",
    "    areaOfHexagon()"
   ]
  },
  {
   "cell_type": "markdown",
   "id": "2b810ce6",
   "metadata": {},
   "source": [
    "### q5.Create a function that returns a base-2 (binary) representation of a base-10 (decimal) string number. To convert is simple:\n"
   ]
  },
  {
   "cell_type": "markdown",
   "id": "9e45b7b0",
   "metadata": {},
   "source": [
    "((2) means base-2 and (10) means base-10) 010101001(2) = 1 + 8 + 32 + 128. Going from right to left, the value of the most right bit is 1, now from that every bit to the left will be x2 the value, value of an 8 bit binary numbers are (256, 128, 64, 32, 16, 8, 4, 2, 1). Examples: `binary(1) ➞ \"1\"\n",
    "\n",
    "1* 1 = 1\n",
    "binary(5) ➞ \"101\"\n",
    "\n",
    "1 1 + 1 4 = 5\n",
    "binary(10) ➞ \"1010\"\n",
    "\n",
    "1 2 + 1 8 = 10`\n"
   ]
  },
  {
   "cell_type": "code",
   "execution_count": 6,
   "id": "65f5a083",
   "metadata": {},
   "outputs": [
    {
     "name": "stdout",
     "output_type": "stream",
     "text": [
      "Enter a Number: 1\n",
      "Binary of 1 ➞ 1\n",
      "Enter a Number: 2\n",
      "Binary of 2 ➞ 10\n",
      "Enter a Number: 3\n",
      "Binary of 3 ➞ 11\n"
     ]
    }
   ],
   "source": [
    "def getBinary():\n",
    "    in_num = int(input(\"Enter a Number: \"))\n",
    "    out_num = bin(in_num).replace('0b','') \n",
    "    print(f'Binary of {in_num} ➞ {out_num}')\n",
    "\n",
    "for x in range(3):\n",
    "    getBinary()\n"
   ]
  },
  {
   "cell_type": "code",
   "execution_count": null,
   "id": "00ed73c8",
   "metadata": {},
   "outputs": [],
   "source": []
  }
 ],
 "metadata": {
  "kernelspec": {
   "display_name": "Python 3 (ipykernel)",
   "language": "python",
   "name": "python3"
  },
  "language_info": {
   "codemirror_mode": {
    "name": "ipython",
    "version": 3
   },
   "file_extension": ".py",
   "mimetype": "text/x-python",
   "name": "python",
   "nbconvert_exporter": "python",
   "pygments_lexer": "ipython3",
   "version": "3.9.13"
  }
 },
 "nbformat": 4,
 "nbformat_minor": 5
}
